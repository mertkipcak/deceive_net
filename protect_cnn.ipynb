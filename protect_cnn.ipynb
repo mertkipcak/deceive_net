{
 "cells": [
  {
   "cell_type": "code",
   "execution_count": 47,
   "metadata": {},
   "outputs": [],
   "source": [
    "import torch\n",
    "import torch.nn as nn\n",
    "import torch.optim as optim\n",
    "from torchvision import datasets, transforms\n",
    "from torch.utils.data import DataLoader\n",
    "import matplotlib.pyplot as plt\n",
    "from torchvision.datasets import MNIST\n",
    "import numpy as np"
   ]
  },
  {
   "cell_type": "code",
   "execution_count": 59,
   "metadata": {},
   "outputs": [],
   "source": [
    "# Create the new examples\n",
    "train_count = 6000\n",
    "val_count = 1000\n",
    "\n",
    "# Create the additional examples as ndarrays\n",
    "train_examples = [(np.random.rand(28, 28).astype(np.float32), 10) for _ in range(train_count)]\n",
    "val_examples = [(np.random.rand(28, 28).astype(np.float32), 10) for _ in range(train_count)]"
   ]
  },
  {
   "cell_type": "code",
   "execution_count": 60,
   "metadata": {},
   "outputs": [],
   "source": [
    "# Create the extended dataset class\n",
    "class ExtendedMNIST(MNIST):\n",
    "    def __init__(self, *args, extra_data=None, **kwargs):\n",
    "        super().__init__(*args, **kwargs)\n",
    "        # extra_data should be a list of tuples (image, label)\n",
    "        self.extra_data = extra_data or []\n",
    "\n",
    "    def __len__(self):\n",
    "        return super().__len__() + len(self.extra_data)\n",
    "\n",
    "    def __getitem__(self, idx):\n",
    "        if idx < super().__len__():\n",
    "            return super().__getitem__(idx)\n",
    "        else:\n",
    "            # Adjust index for extra data\n",
    "            idx -= super().__len__()\n",
    "            image, label = self.extra_data[idx]\n",
    "            # Transform the PIL Image if required\n",
    "            if self.transform is not None:\n",
    "                image = self.transform(image)\n",
    "            return image, label\n",
    "          \n",
    "# Create the extended dataset\n",
    "transform = transforms.Compose([transforms.ToTensor(), transforms.Normalize((0.5,), (0.5,))])\n",
    "\n",
    "train_dataset = ExtendedMNIST(root='./data', train=True, download=True, transform=transform, extra_data=train_examples)\n",
    "train_loader = DataLoader(train_dataset, batch_size=64, shuffle=True)\n",
    "\n",
    "val_dataset = ExtendedMNIST(root='./data', train=False, download=True, transform=transform, extra_data=val_examples)\n",
    "val_loader = DataLoader(val_dataset, batch_size=64, shuffle=True)"
   ]
  },
  {
   "cell_type": "code",
   "execution_count": 61,
   "metadata": {},
   "outputs": [
    {
     "data": {
      "image/png": "[encoded data removed]",
      "text/plain": [
       "<Figure size 1500x200 with 11 Axes>"
      ]
     },
     "metadata": {},
     "output_type": "display_data"
    }
   ],
   "source": [
    "label_images = []\n",
    "for label in range(11):\n",
    "    # Find the first image with the current label\n",
    "    for image, image_label in train_dataset:\n",
    "        if image_label == label:\n",
    "            label_images.append(image)\n",
    "            break\n",
    "\n",
    "# Plot the images\n",
    "fig, axes = plt.subplots(1, 11, figsize=(15, 2))\n",
    "for i, image in enumerate(label_images):\n",
    "    axes[i].imshow(image.squeeze(), cmap='gray')\n",
    "    axes[i].axis('off')\n",
    "    axes[i].set_title(f'Label {i}')\n",
    "plt.show()\n"
   ]
  },
  {
   "cell_type": "code",
   "execution_count": 64,
   "metadata": {},
   "outputs": [],
   "source": [
    "# Define the CNN model\n",
    "class Net(nn.Module):\n",
    "    def __init__(self):\n",
    "        super().__init__()\n",
    "        # First conv layer\n",
    "        self.conv1 = nn.Conv2d(1, 32, kernel_size=3, stride=1, padding=1)\n",
    "        # Second conv layer\n",
    "        self.conv2 = nn.Conv2d(32, 64, kernel_size=3, stride=1, padding=1)\n",
    "        # Max pooling\n",
    "        self.pool = nn.MaxPool2d(kernel_size=2, stride=2)\n",
    "        # Flatten layer\n",
    "        self.flatten = nn.Flatten()\n",
    "        # Linear layers\n",
    "        self.fc1 = nn.Linear(64 * 7 * 7, 128)\n",
    "        self.fc2 = nn.Linear(128, 64)\n",
    "        self.fc3 = nn.Linear(64, 11) # 11 output classes, 10 means gibberish\n",
    "        # Dropout\n",
    "        self.dropout = nn.Dropout(0.3)\n",
    "        # ReLU\n",
    "        self.relu = nn.ReLU()\n",
    "\n",
    "    def forward(self, x):\n",
    "        x = self.pool(self.relu(self.conv1(x))) # Convolution 1 and pooling\n",
    "        x = self.pool(self.relu(self.conv2(x))) # Convolution 2 and pooling\n",
    "        x = self.flatten(x) # Flatten the output for the linear layers\n",
    "        x = self.relu(self.fc1(x))\n",
    "        x = self.dropout(x)\n",
    "        x = self.relu(self.fc2(x))\n",
    "        x = self.fc3(x)\n",
    "        return x\n",
    "    \n",
    "model = Net()\n",
    "\n",
    "# Initialize the optimizer\n",
    "optimizer = optim.AdamW(model.parameters(), lr=1e-3)\n",
    "criterion = nn.CrossEntropyLoss()"
   ]
  },
  {
   "cell_type": "code",
   "execution_count": 65,
   "metadata": {},
   "outputs": [
    {
     "name": "stdout",
     "output_type": "stream",
     "text": [
      "Epoch [1/8], Loss: 0.2365, Accuracy: 92.56%\n",
      "Epoch [2/8], Loss: 0.0711, Accuracy: 97.88%\n",
      "Epoch [3/8], Loss: 0.0531, Accuracy: 98.47%\n",
      "Epoch [4/8], Loss: 0.0432, Accuracy: 98.71%\n",
      "Epoch [5/8], Loss: 0.0380, Accuracy: 98.81%\n",
      "Epoch [6/8], Loss: 0.0318, Accuracy: 99.01%\n",
      "Epoch [7/8], Loss: 0.0284, Accuracy: 99.10%\n",
      "Epoch [8/8], Loss: 0.0245, Accuracy: 99.22%\n"
     ]
    }
   ],
   "source": [
    "# Train the network\n",
    "num_epochs = 8\n",
    "for epoch in range(num_epochs):\n",
    "    running_loss = 0.0\n",
    "    correct = 0\n",
    "    total = 0\n",
    "    \n",
    "    for batch_idx, (data, target) in enumerate(train_loader):\n",
    "        # Forward pass, backward pass, optimize\n",
    "        optimizer.zero_grad()\n",
    "        output = model(data)\n",
    "        loss = criterion(output, target)\n",
    "        loss.backward()\n",
    "        optimizer.step()\n",
    "        \n",
    "        # Calculate metrics\n",
    "        running_loss += loss.item()\n",
    "        _, predicted = torch.max(output.data, 1)\n",
    "        total += target.size(0)\n",
    "        correct += (predicted == target).sum().item()\n",
    "        \n",
    "    # Print metrics for each epoch\n",
    "    print(f'Epoch [{epoch+1}/{num_epochs}], Loss: {running_loss/len(train_loader):.4f}, Accuracy: {(100*correct/total):.2f}%')\n"
   ]
  },
  {
   "cell_type": "code",
   "execution_count": 66,
   "metadata": {},
   "outputs": [],
   "source": [
    "# Save the model\n",
    "torch.save(model.state_dict(), './models/protect_mnist_cnn.pt')"
   ]
  },
  {
   "cell_type": "code",
   "execution_count": 67,
   "metadata": {},
   "outputs": [
    {
     "name": "stdout",
     "output_type": "stream",
     "text": [
      "Accuracy on validation data: 99.47%\n"
     ]
    }
   ],
   "source": [
    "# Evaluate the model on the validation dataset\n",
    "model.eval()\n",
    "correct = 0\n",
    "total = 0\n",
    "\n",
    "with torch.no_grad():\n",
    "    for data, target in val_loader:\n",
    "        output = model(data)\n",
    "        _, predicted = torch.max(output.data, 1)\n",
    "        total += target.size(0)\n",
    "        correct += (predicted == target).sum().item()\n",
    "\n",
    "accuracy = 100 * correct / total\n",
    "print(f'Accuracy on validation data: {accuracy:.2f}%')"
   ]
  },
  {
   "cell_type": "code",
   "execution_count": null,
   "metadata": {},
   "outputs": [],
   "source": []
  }
 ],
 "metadata": {
  "kernelspec": {
   "display_name": "Python 3",
   "language": "python",
   "name": "python3"
  },
  "language_info": {
   "codemirror_mode": {
    "name": "ipython",
    "version": 3
   },
   "file_extension": ".py",
   "mimetype": "text/x-python",
   "name": "python",
   "nbconvert_exporter": "python",
   "pygments_lexer": "ipython3",
   "version": "3.11.1"
  }
 },
 "nbformat": 4,
 "nbformat_minor": 2
}
